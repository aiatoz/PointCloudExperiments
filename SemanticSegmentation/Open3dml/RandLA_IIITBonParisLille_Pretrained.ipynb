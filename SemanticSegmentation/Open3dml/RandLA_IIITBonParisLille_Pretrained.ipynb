{
 "cells": [
  {
   "cell_type": "code",
   "execution_count": 1,
   "metadata": {
    "colab": {
     "base_uri": "https://localhost:8080/"
    },
    "id": "nWs18iMD6hxn",
    "outputId": "4cd1c357-6568-4b57-9dde-0fb6e099d4a9"
   },
   "outputs": [],
   "source": [
    "#!pip install open3d"
   ]
  },
  {
   "cell_type": "code",
   "execution_count": 2,
   "metadata": {
    "id": "IYJ5WIEG7bK7"
   },
   "outputs": [],
   "source": [
    "#!pip install torch==2.0.1 torchvision==0.15.2 torchaudio==2.0.2"
   ]
  },
  {
   "cell_type": "code",
   "execution_count": 3,
   "metadata": {
    "id": "IDsXHsme4cT9"
   },
   "outputs": [
    {
     "name": "stdout",
     "output_type": "stream",
     "text": [
      "Jupyter environment detected. Enabling Open3D WebVisualizer.\n",
      "[Open3D INFO] WebRTC GUI backend enabled.\n",
      "[Open3D INFO] WebRTCWindowSystem: HTTP handshake server disabled.\n"
     ]
    }
   ],
   "source": [
    "import open3d.ml as _ml3d\n",
    "import open3d as o3d\n",
    "import open3d.ml.torch as ml3d  # just switch to open3d.ml.tf for tf usage\n",
    "import os"
   ]
  },
  {
   "cell_type": "code",
   "execution_count": 4,
   "metadata": {
    "colab": {
     "base_uri": "https://localhost:8080/"
    },
    "id": "yxvl_mJV6HKV",
    "outputId": "1ebbb6c4-ff37-4898-cf2e-5819ac383f18"
   },
   "outputs": [
    {
     "name": "stdout",
     "output_type": "stream",
     "text": [
      "True\n"
     ]
    }
   ],
   "source": [
    "import torch\n",
    "print(torch.cuda.is_available())\n",
    "\n",
    "device = torch.device(\"cuda\" if torch.cuda.is_available() else \"cpu\")"
   ]
  },
  {
   "cell_type": "code",
   "execution_count": 5,
   "metadata": {
    "id": "W-frvzPA6K5d"
   },
   "outputs": [],
   "source": [
    "cfg_file = \"configs/randlanet_parislille3d.yml\"\n",
    "cfg = _ml3d.utils.Config.load_from_file(cfg_file)\n",
    "\n",
    "model = ml3d.models.RandLANet(**cfg.model)\n",
    "cfg.dataset['dataset_path'] = \"/mnt/d/Krishna/Research/Datasets/Paris/\" #D:\\Krishna\\Research\\Datasets\\Toronto3D\n",
    "dataset = ml3d.datasets.ParisLille3D(cfg.dataset.pop('dataset_path', None), **cfg.dataset)\n",
    "pipeline = ml3d.pipelines.SemanticSegmentation(model, dataset=dataset, device=\"gpu\", **cfg.pipeline)"
   ]
  },
  {
   "cell_type": "code",
   "execution_count": 6,
   "metadata": {
    "id": "NNBbCo9J6Nml"
   },
   "outputs": [],
   "source": [
    "# download the weights.\n",
    "ckpt_folder = \"pretrained/\"\n",
    "os.makedirs(ckpt_folder, exist_ok=True)\n",
    "ckpt_path = ckpt_folder + \"randlanet_parislille3d_202201071330utc.pth\""
   ]
  },
  {
   "cell_type": "code",
   "execution_count": 7,
   "metadata": {},
   "outputs": [],
   "source": [
    "pipeline.load_ckpt(ckpt_path=ckpt_path)"
   ]
  },
  {
   "cell_type": "code",
   "execution_count": 8,
   "metadata": {},
   "outputs": [
    {
     "data": {
      "text/plain": [
       "['/mnt/d/Krishna/Research/Datasets/Paris//test_10_classes/000003.ply',\n",
       " '/mnt/d/Krishna/Research/Datasets/Paris//test_10_classes/ajaccio_2.ply',\n",
       " '/mnt/d/Krishna/Research/Datasets/Paris//test_10_classes/ajaccio_57.ply',\n",
       " '/mnt/d/Krishna/Research/Datasets/Paris//test_10_classes/dijon_9.ply',\n",
       " '/mnt/d/Krishna/Research/Datasets/Paris//test_10_classes/IIITB_base_Readable.ply',\n",
       " '/mnt/d/Krishna/Research/Datasets/Paris//test_10_classes/IIITB_ParisLille_GT_BINARY.ply']"
      ]
     },
     "execution_count": 8,
     "metadata": {},
     "output_type": "execute_result"
    }
   ],
   "source": [
    "dataset.get_split_list(\"test\")"
   ]
  },
  {
   "cell_type": "code",
   "execution_count": 9,
   "metadata": {},
   "outputs": [],
   "source": [
    "test_split = dataset.get_split(\"test\")\n",
    "data = test_split.get_data(5)"
   ]
  },
  {
   "cell_type": "code",
   "execution_count": null,
   "metadata": {
    "colab": {
     "base_uri": "https://localhost:8080/"
    },
    "id": "uZQT4vWf6P7l",
    "outputId": "967e5320-808e-4251-9a64-587d306811dd"
   },
   "outputs": [],
   "source": [
    "result = pipeline.run_inference(data) # returns dict with 'predict_labels' and 'predict_scores'."
   ]
  },
  {
   "cell_type": "code",
   "execution_count": null,
   "metadata": {},
   "outputs": [],
   "source": [
    "pipeline.run_test() # evaluate performance on the test set; this will write logs to './logs'."
   ]
  },
  {
   "cell_type": "code",
   "execution_count": null,
   "metadata": {},
   "outputs": [],
   "source": [
    "import numpy as np\n",
    "\n",
    "# Assuming newData is already defined as in your example\n",
    "newData['label'] = newData['label'] + 1\n",
    "\n",
    "# Combine all data into a single array for writing to a text file\n",
    "# Structure: x, y, z, r, g, b, label\n",
    "data_to_write = np.hstack((\n",
    "    newData['point'],                       # x, y, z coordinates\n",
    "    #newData['feat'][:, :3],                 # r, g, b colors\n",
    "    newData['label'].reshape(-1, 1)         # label as a single column\n",
    "))\n",
    "\n",
    "# Save to a text file ckpt_00300\n",
    "np.savetxt(\"ParisLille_RandLAOut.txt\", data_to_write, fmt='%.6f %.6f %.6f %d')\n",
    "\n",
    "print(\"Point cloud data with labels saved to output_point_cloud.txt\")"
   ]
  }
 ],
 "metadata": {
  "accelerator": "GPU",
  "colab": {
   "gpuType": "T4",
   "provenance": []
  },
  "kernelspec": {
   "display_name": "Python 3 (ipykernel)",
   "language": "python",
   "name": "python3"
  },
  "language_info": {
   "codemirror_mode": {
    "name": "ipython",
    "version": 3
   },
   "file_extension": ".py",
   "mimetype": "text/x-python",
   "name": "python",
   "nbconvert_exporter": "python",
   "pygments_lexer": "ipython3",
   "version": "3.10.14"
  }
 },
 "nbformat": 4,
 "nbformat_minor": 4
}
