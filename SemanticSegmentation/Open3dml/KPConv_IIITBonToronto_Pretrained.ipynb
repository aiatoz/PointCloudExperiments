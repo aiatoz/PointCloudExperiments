{
 "cells": [
  {
   "cell_type": "code",
   "execution_count": 1,
   "id": "80291cb2-61de-437b-983f-aa2164743f68",
   "metadata": {},
   "outputs": [
    {
     "name": "stdout",
     "output_type": "stream",
     "text": [
      "Jupyter environment detected. Enabling Open3D WebVisualizer.\n",
      "[Open3D INFO] WebRTC GUI backend enabled.\n",
      "[Open3D INFO] WebRTCWindowSystem: HTTP handshake server disabled.\n"
     ]
    }
   ],
   "source": [
    "import open3d.ml as _ml3d\n",
    "import open3d as o3d\n",
    "import open3d.ml.torch as ml3d  # just switch to open3d.ml.tf for tf usage\n",
    "import os"
   ]
  },
  {
   "cell_type": "code",
   "execution_count": 2,
   "id": "c6f31573-5e2b-45d0-91d0-c656d7f7a82a",
   "metadata": {},
   "outputs": [
    {
     "name": "stdout",
     "output_type": "stream",
     "text": [
      "True\n"
     ]
    }
   ],
   "source": [
    "import torch\n",
    "print(torch.cuda.is_available())"
   ]
  },
  {
   "cell_type": "code",
   "execution_count": 3,
   "id": "6ccbc59b-45c0-4d07-920d-cf6c00d8e827",
   "metadata": {},
   "outputs": [],
   "source": [
    "device = torch.device(\"cuda\" if torch.cuda.is_available() else \"cpu\")"
   ]
  },
  {
   "cell_type": "code",
   "execution_count": 4,
   "id": "dda15865-6348-4714-ab71-cd0b6e158ad5",
   "metadata": {},
   "outputs": [
    {
     "name": "stderr",
     "output_type": "stream",
     "text": [
      "test 0/1: 100%|█████████████████████████████████████████████████████████████████| 104263/104263 [02:37<00:00, 18.92it/s]\n",
      "preprocess:   0%|                                                                                 | 0/1 [00:00<?, ?it/s]\u001b[A\n",
      "preprocess: 100%|█████████████████████████████████████████████████████████████████████████| 1/1 [00:03<00:00,  3.85s/it]\u001b[A\n",
      "\n",
      "test 0/1: 100%|████████████████████████████████████████████████████████████████| 104263/104263 [02:43<00:00, 636.91it/s]\u001b[A\n",
      "\n",
      "test 0/1:   4%|██▌                                                              | 4065/104263 [00:00<00:10, 9831.10it/s]\u001b[A\n",
      "test 0/1:   7%|████▏                                                           | 6832/104263 [00:00<00:07, 13447.41it/s]\u001b[A\n",
      "test 0/1:   8%|█████▍                                                          | 8826/104263 [00:00<00:06, 14068.31it/s]\u001b[A\n",
      "test 0/1:  11%|███████▏                                                       | 11812/104263 [00:00<00:05, 16780.94it/s]\u001b[A\n",
      "test 0/1:  15%|█████████▏                                                     | 15282/104263 [00:01<00:05, 15543.87it/s]\u001b[A\n",
      "test 0/1:  18%|███████████▍                                                   | 18883/104263 [00:01<00:04, 18303.07it/s]\u001b[A\n",
      "test 0/1:  21%|████████████▉                                                  | 21495/104263 [00:01<00:04, 18585.76it/s]\u001b[A\n",
      "test 0/1:  23%|██████████████▎                                                | 23680/104263 [00:01<00:04, 18503.97it/s]\u001b[A\n",
      "test 0/1:  27%|████████████████▉                                              | 28092/104263 [00:01<00:03, 22564.09it/s]\u001b[A\n",
      "test 0/1:  29%|██████████████████▍                                            | 30454/104263 [00:01<00:03, 21195.69it/s]\u001b[A\n",
      "test 0/1:  33%|████████████████████▊                                          | 34519/104263 [00:01<00:03, 18963.81it/s]\u001b[A\n",
      "test 0/1:  35%|██████████████████████▎                                        | 37012/104263 [00:02<00:03, 19032.32it/s]\u001b[A\n",
      "test 0/1:  38%|███████████████████████▉                                       | 39660/104263 [00:02<00:03, 18935.16it/s]\u001b[A\n",
      "test 0/1:  40%|█████████████████████████▎                                     | 41910/104263 [00:02<00:03, 18344.47it/s]\u001b[A\n",
      "test 0/1:  42%|██████████████████████████▋                                    | 44121/104263 [00:02<00:03, 17520.46it/s]\u001b[A\n",
      "test 0/1:  44%|███████████████████████████▊                                   | 45980/104263 [00:02<00:03, 16106.76it/s]\u001b[A\n",
      "test 0/1:  47%|█████████████████████████████▋                                 | 49198/104263 [00:02<00:03, 17941.32it/s]\u001b[A\n",
      "test 0/1:  51%|███████████████████████████████▊                               | 52666/104263 [00:02<00:02, 19627.13it/s]\u001b[A\n",
      "test 0/1:  54%|█████████████████████████████████▊                             | 56038/104263 [00:03<00:02, 19949.93it/s]\u001b[A\n",
      "test 0/1:  57%|███████████████████████████████████▌                           | 58910/104263 [00:03<00:02, 19359.33it/s]\u001b[A\n",
      "test 0/1:  59%|█████████████████████████████████████                          | 61310/104263 [00:03<00:02, 18450.78it/s]\u001b[A\n",
      "test 0/1:  62%|███████████████████████████████████████                        | 64702/104263 [00:03<00:01, 19898.69it/s]\u001b[A\n",
      "test 0/1:  64%|████████████████████████████████████████▍                      | 66991/104263 [00:03<00:01, 18675.27it/s]\u001b[A\n",
      "test 0/1:  66%|█████████████████████████████████████████▋                     | 69058/104263 [00:03<00:01, 17749.64it/s]\u001b[A\n",
      "test 0/1:  70%|███████████████████████████████████████████▉                   | 72617/104263 [00:04<00:02, 15232.11it/s]\u001b[A\n",
      "test 0/1:  73%|█████████████████████████████████████████████▊                 | 75718/104263 [00:04<00:01, 16519.38it/s]\u001b[A\n",
      "test 0/1:  76%|███████████████████████████████████████████████▉               | 79418/104263 [00:04<00:01, 17481.10it/s]\u001b[A\n",
      "test 0/1:  79%|█████████████████████████████████████████████████▉             | 82678/104263 [00:04<00:01, 14084.99it/s]\u001b[A\n",
      "test 0/1:  82%|███████████████████████████████████████████████████▉           | 85896/104263 [00:04<00:01, 15118.74it/s]\u001b[A\n",
      "test 0/1:  84%|█████████████████████████████████████████████████████          | 87780/104263 [00:05<00:01, 14129.11it/s]\u001b[A\n",
      "test 0/1:  86%|██████████████████████████████████████████████████████▍        | 90067/104263 [00:05<00:01, 14152.01it/s]\u001b[A\n",
      "test 0/1:  89%|███████████████████████████████████████████████████████▊       | 92307/104263 [00:05<00:00, 13694.23it/s]\u001b[A\n",
      "test 0/1:  90%|████████████████████████████████████████████████████████▋      | 93727/104263 [00:05<00:00, 11785.50it/s]\u001b[A\n",
      "test 0/1:  92%|██████████████████████████████████████████████████████████▊     | 95902/104263 [00:05<00:00, 9874.19it/s]\u001b[A\n",
      "test 0/1:  94%|███████████████████████████████████████████████████████████▊    | 97506/104263 [00:06<00:00, 8327.71it/s]\u001b[A\n",
      "test 0/1:  95%|████████████████████████████████████████████████████████████▌   | 98631/104263 [00:06<00:00, 7846.74it/s]\u001b[A\n",
      "test 0/1:  96%|█████████████████████████████████████████████████████████████▏  | 99611/104263 [00:06<00:00, 5821.65it/s]\u001b[A\n",
      "test 0/1:  96%|████████████████████████████████████████████████████████████▋  | 100456/104263 [00:06<00:00, 5747.81it/s]\u001b[A\n",
      "test 0/1:  97%|█████████████████████████████████████████████████████████████▏ | 101203/104263 [00:07<00:00, 5555.98it/s]\u001b[A\n",
      "test 0/1:  98%|█████████████████████████████████████████████████████████████▋ | 102057/104263 [00:07<00:00, 4332.27it/s]\u001b[A\n",
      "test 0/1:  98%|██████████████████████████████████████████████████████████████ | 102618/104263 [00:07<00:00, 2897.66it/s]\u001b[A\n",
      "test 0/1:  99%|██████████████████████████████████████████████████████████████▌| 103566/104263 [00:08<00:00, 2719.31it/s]\u001b[A\n",
      "test 0/1: 100%|██████████████████████████████████████████████████████████████▊| 104015/104263 [00:08<00:00, 2058.22it/s]\u001b[A\n",
      "test 0/1: 100%|███████████████████████████████████████████████████████████████| 104263/104263 [00:26<00:00, 2058.22it/s]\u001b[A"
     ]
    }
   ],
   "source": [
    "cfg_file = \"configs/kpconv_toronto3d_ADJUSTEDFORIIITB.yml\"\n",
    "cfg = _ml3d.utils.Config.load_from_file(cfg_file)\n",
    "\n",
    "model = ml3d.models.KPFCNN(**cfg.model)\n",
    "cfg.dataset['dataset_path'] = \"/mnt/d/Krishna/Research/Datasets/Toronto3D\"\n",
    "dataset = ml3d.datasets.Toronto3D(cfg.dataset.pop('dataset_path', None), **cfg.dataset)\n",
    "pipeline = ml3d.pipelines.SemanticSegmentation(model, dataset=dataset, device=\"gpu\", **cfg.pipeline)\n",
    "\n",
    "# download the weights.\n",
    "ckpt_folder = \"pretrained/\"\n",
    "os.makedirs(ckpt_folder, exist_ok=True)\n",
    "ckpt_path = ckpt_folder + \"kpconv_toronto3d_202010081102utc.pth\"\n",
    "randlanet_url = \"https://storage.googleapis.com/open3d-releases/model-zoo/kpconv_toronto3d_202010081102utc.pth\"\n",
    "if not os.path.exists(ckpt_path):\n",
    "    cmd = \"wget {} -O {}\".format(randlanet_url, ckpt_path)\n",
    "    os.system(cmd)\n",
    "\n",
    "# load the parameters.\n",
    "pipeline.load_ckpt(ckpt_path=ckpt_path)\n",
    "\n",
    "test_split = dataset.get_split(\"test\")\n",
    "data = test_split.get_data(0)\n",
    "\n",
    "'''print(test_split)\n",
    "print(data)\n",
    "break'''\n",
    "\n",
    "# run inference on a single example.\n",
    "# returns dict with 'predict_labels' and 'predict_scores'.\n",
    "result = pipeline.run_inference(data)\n",
    "\n",
    "# evaluate performance on the test set; this will write logs to './logs'.\n",
    "pipeline.run_test()"
   ]
  },
  {
   "cell_type": "code",
   "execution_count": 5,
   "id": "82e0329d-33b2-4b29-ab3b-b0a36325009b",
   "metadata": {},
   "outputs": [
    {
     "data": {
      "text/plain": [
       "2275320"
      ]
     },
     "execution_count": 5,
     "metadata": {},
     "output_type": "execute_result"
    }
   ],
   "source": [
    "len(result['predict_labels'])"
   ]
  },
  {
   "cell_type": "code",
   "execution_count": 6,
   "id": "f5d4168e-6b62-42ec-8719-a08117044e43",
   "metadata": {},
   "outputs": [
    {
     "data": {
      "text/plain": [
       "{2, 3, 4, 5, 6, 7}"
      ]
     },
     "execution_count": 6,
     "metadata": {},
     "output_type": "execute_result"
    }
   ],
   "source": [
    "set(result['predict_labels'])"
   ]
  },
  {
   "cell_type": "code",
   "execution_count": 7,
   "id": "7e2021b1-f847-421d-ad4e-f258da58bce2",
   "metadata": {},
   "outputs": [],
   "source": [
    "newData = data"
   ]
  },
  {
   "cell_type": "code",
   "execution_count": 8,
   "id": "3392a8f3-0fe3-401b-bce3-c97b941bbda2",
   "metadata": {},
   "outputs": [],
   "source": [
    "newData['label'] = result['predict_labels']"
   ]
  },
  {
   "cell_type": "code",
   "execution_count": 9,
   "id": "847e24dd-2b87-42f3-a904-f0384feec4ca",
   "metadata": {},
   "outputs": [
    {
     "data": {
      "text/plain": [
       "{'point': array([[-6.2729075e+05, -4.8419450e+06, -9.4900000e-01],\n",
       "        [-6.2729075e+05, -4.8419450e+06, -9.5599997e-01],\n",
       "        [-6.2729081e+05, -4.8419450e+06, -9.6100003e-01],\n",
       "        ...,\n",
       "        [-6.2728850e+05, -4.8419530e+06,  7.0099998e-01],\n",
       "        [-6.2728850e+05, -4.8419530e+06,  7.2666663e-01],\n",
       "        [-6.2728850e+05, -4.8419535e+06,  7.2500002e-01]], dtype=float32),\n",
       " 'feat': array([[  0.,   0.,   0.],\n",
       "        [  0.,   0.,   0.],\n",
       "        [  0.,   0.,   0.],\n",
       "        ...,\n",
       "        [147.,  49., 147.],\n",
       "        [150.,  50., 150.],\n",
       "        [147.,  49., 147.]], dtype=float32),\n",
       " 'label': array([4, 4, 4, ..., 4, 4, 4])}"
      ]
     },
     "execution_count": 9,
     "metadata": {},
     "output_type": "execute_result"
    }
   ],
   "source": [
    "newData"
   ]
  },
  {
   "cell_type": "code",
   "execution_count": 10,
   "id": "fbec2f7a-4251-42bd-8b1a-9d3c66605699",
   "metadata": {},
   "outputs": [
    {
     "name": "stdout",
     "output_type": "stream",
     "text": [
      "Point cloud with labels saved to output_with_labels.pcd\n"
     ]
    }
   ],
   "source": [
    "import numpy as np\n",
    "\n",
    "# Assuming newData is already defined as in your example\n",
    "\n",
    "# Combine the point cloud data: x, y, z, r, g, b, label\n",
    "# Ensure colors are normalized to [0, 1] range\n",
    "colors = newData['feat'][:, :3] / 255.0\n",
    "labels = newData['label'].reshape(-1, 1).astype(np.float32)\n",
    "data_to_write = np.hstack((newData['point'], colors, labels))\n",
    "\n",
    "# Create a header for the PCD file\n",
    "header = f\"\"\"# .PCD v0.7 - Point Cloud Data file format\n",
    "VERSION 0.7\n",
    "FIELDS x y z rgb label\n",
    "SIZE 4 4 4 4 4\n",
    "TYPE F F F F F\n",
    "COUNT 1 1 1 1 1\n",
    "WIDTH {data_to_write.shape[0]}\n",
    "HEIGHT 1\n",
    "VIEWPOINT 0 0 0 1 0 0 0\n",
    "POINTS {data_to_write.shape[0]}\n",
    "DATA ascii\n",
    "\"\"\"\n",
    "\n",
    "# Convert RGB values from float (0-1) to packed float (for PCD)\n",
    "rgb_packed = np.array(\n",
    "    ((colors[:, 0] * 255).astype(np.uint32) << 16) |\n",
    "    ((colors[:, 1] * 255).astype(np.uint32) << 8) |\n",
    "    ((colors[:, 2] * 255).astype(np.uint32))\n",
    ").view(np.float32).reshape(-1, 1)\n",
    "\n",
    "# Combine points, packed RGB, and labels\n",
    "pcd_data = np.hstack((newData['point'], rgb_packed, labels))\n",
    "\n",
    "# Write to the PCD file\n",
    "with open(\"trntoIIITB.pcd\", \"w\") as f:\n",
    "    f.write(header)\n",
    "    np.savetxt(f, pcd_data, fmt=\"%.6f %.6f %.6f %.6f %.1f\")\n",
    "\n",
    "print(\"Point cloud with labels saved to output_with_labels.pcd\")"
   ]
  },
  {
   "cell_type": "code",
   "execution_count": null,
   "id": "2579f388-695f-4270-99dc-ce5cada6f050",
   "metadata": {},
   "outputs": [],
   "source": []
  }
 ],
 "metadata": {
  "kernelspec": {
   "display_name": "Python 3 (ipykernel)",
   "language": "python",
   "name": "python3"
  },
  "language_info": {
   "codemirror_mode": {
    "name": "ipython",
    "version": 3
   },
   "file_extension": ".py",
   "mimetype": "text/x-python",
   "name": "python",
   "nbconvert_exporter": "python",
   "pygments_lexer": "ipython3",
   "version": "3.10.14"
  }
 },
 "nbformat": 4,
 "nbformat_minor": 5
}
