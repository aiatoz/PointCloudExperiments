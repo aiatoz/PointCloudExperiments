{
 "cells": [
  {
   "cell_type": "code",
   "execution_count": 1,
   "metadata": {
    "colab": {
     "base_uri": "https://localhost:8080/"
    },
    "id": "nWs18iMD6hxn",
    "outputId": "4cd1c357-6568-4b57-9dde-0fb6e099d4a9"
   },
   "outputs": [
    {
     "name": "stdout",
     "output_type": "stream",
     "text": [
      "Successfully installed addict-2.4.0 comm-0.2.2 configargparse-1.7 dash-2.17.1 dash-core-components-2.0.0 dash-html-components-2.0.0 dash-table-5.0.0 ipywidgets-8.1.3 jedi-0.19.1 open3d-0.18.0 pyquaternion-0.9.9 retrying-1.3.4 widgetsnbextension-4.0.11\n"
     ]
    }
   ],
   "source": [
    "#!pip install open3d"
   ]
  },
  {
   "cell_type": "code",
   "execution_count": null,
   "metadata": {
    "id": "IYJ5WIEG7bK7"
   },
   "outputs": [],
   "source": [
    "#!pip install torch==2.0.1 torchvision==0.15.2 torchaudio==2.0.2"
   ]
  },
  {
   "cell_type": "code",
   "execution_count": 1,
   "metadata": {
    "id": "IDsXHsme4cT9"
   },
   "outputs": [
    {
     "name": "stdout",
     "output_type": "stream",
     "text": [
      "Jupyter environment detected. Enabling Open3D WebVisualizer.\n",
      "[Open3D INFO] WebRTC GUI backend enabled.\n",
      "[Open3D INFO] WebRTCWindowSystem: HTTP handshake server disabled.\n"
     ]
    }
   ],
   "source": [
    "import open3d.ml as _ml3d\n",
    "import open3d as o3d\n",
    "import open3d.ml.torch as ml3d  # just switch to open3d.ml.tf for tf usage\n",
    "import os"
   ]
  },
  {
   "cell_type": "code",
   "execution_count": 2,
   "metadata": {
    "colab": {
     "base_uri": "https://localhost:8080/"
    },
    "id": "yxvl_mJV6HKV",
    "outputId": "1ebbb6c4-ff37-4898-cf2e-5819ac383f18"
   },
   "outputs": [
    {
     "name": "stdout",
     "output_type": "stream",
     "text": [
      "True\n"
     ]
    }
   ],
   "source": [
    "import torch\n",
    "print(torch.cuda.is_available())\n",
    "\n",
    "device = torch.device(\"cuda\" if torch.cuda.is_available() else \"cpu\")"
   ]
  },
  {
   "cell_type": "code",
   "execution_count": 4,
   "metadata": {
    "id": "W-frvzPA6K5d"
   },
   "outputs": [],
   "source": [
    "cfg_file = \"configs/randlanet_toronto3d_ADJUSTEDFORIIITB.yml\"\n",
    "cfg = _ml3d.utils.Config.load_from_file(cfg_file)\n",
    "\n",
    "model = ml3d.models.RandLANet(**cfg.model)\n",
    "cfg.dataset['dataset_path'] = \"/mnt/d/Krishna/Research/Datasets/Toronto3D\" #D:\\Krishna\\Research\\Datasets\\Toronto3D\n",
    "dataset = ml3d.datasets.Toronto3D(cfg.dataset.pop('dataset_path', None), **cfg.dataset)\n",
    "pipeline = ml3d.pipelines.SemanticSegmentation(model, dataset=dataset, device=\"gpu\", **cfg.pipeline)"
   ]
  },
  {
   "cell_type": "code",
   "execution_count": 5,
   "metadata": {
    "id": "NNBbCo9J6Nml"
   },
   "outputs": [],
   "source": [
    "# download the weights.\n",
    "ckpt_folder = \"pretrained/\"\n",
    "os.makedirs(ckpt_folder, exist_ok=True)\n",
    "ckpt_path = ckpt_folder + \"randlanet_toronto3d_202201071330utc.pth\"\n",
    "randlanet_url = \"https://storage.googleapis.com/open3d-releases/model-zoo/randlanet_toronto3d_202201071330utc.pth\"\n",
    "if not os.path.exists(ckpt_path):\n",
    "    cmd = \"wget {} -O {}\".format(randlanet_url, ckpt_path)\n",
    "    os.system(cmd)\n",
    "\n",
    "# load the parameters.\n",
    "pipeline.load_ckpt(ckpt_path=ckpt_path)\n",
    "\n",
    "test_split = dataset.get_split(\"test\")\n",
    "data = test_split.get_data(0)"
   ]
  },
  {
   "cell_type": "code",
   "execution_count": null,
   "metadata": {
    "colab": {
     "base_uri": "https://localhost:8080/"
    },
    "id": "uZQT4vWf6P7l",
    "outputId": "967e5320-808e-4251-9a64-587d306811dd"
   },
   "outputs": [],
   "source": [
    "result = pipeline.run_inference(data) # returns dict with 'predict_labels' and 'predict_scores'.\n",
    "pipeline.run_test() # evaluate performance on the test set; this will write logs to './logs'."
   ]
  },
  {
   "cell_type": "code",
   "execution_count": 6,
   "metadata": {
    "id": "ZZ4K-lIy8uoX"
   },
   "outputs": [],
   "source": [
    "import numpy as np\n",
    "\n",
    "np_load_old = np.load\n",
    "np.load = lambda *a,**k: np_load_old(*a, allow_pickle=True, **k)\n",
    "\n",
    "PCfile = np.load('/mnt/d/Krishna/Research/Codes/Pretrained/logs/cache/57bc13c1925f42de3e5bac02f9406047/IIIT_Base_mSeg.ply.npy')\n",
    "\n",
    "np.load = np_load_old"
   ]
  },
  {
   "cell_type": "code",
   "execution_count": 7,
   "metadata": {
    "id": "G6dw65GS9sL0"
   },
   "outputs": [],
   "source": [
    "point = PCfile.item().get('point')\n",
    "feat = PCfile.item().get('feat')\n",
    "label = PCfile.item().get('label')\n",
    "\n",
    "# Create an Open3D PointCloud object\n",
    "pcd = o3d.geometry.PointCloud()\n",
    "pcd.points = o3d.utility.Vector3dVector(point)"
   ]
  },
  {
   "cell_type": "code",
   "execution_count": 8,
   "metadata": {
    "id": "CopWH7r_9vvs"
   },
   "outputs": [],
   "source": [
    "# Open a text file in write mode\n",
    "with open(\"output.txt\", \"w\") as file:\n",
    "    # Write the header\n",
    "    file.write(\"x y z R G B label\\n\")\n",
    "\n",
    "    # Iterate through each point and write the data to the file\n",
    "    for i in range(point.shape[0]):\n",
    "        x, y, z = point[i]\n",
    "        R, G, B = feat[i]\n",
    "        lbl = label[i]\n",
    "        file.write(f\"{x} {y} {z} {R} {G} {B} {lbl}\\n\")"
   ]
  },
  {
   "cell_type": "code",
   "execution_count": 9,
   "metadata": {
    "id": "lfjmbQG0-PJt"
   },
   "outputs": [],
   "source": [
    "!cp -r '/content/output.txt' '/content/drive/MyDrive/RandLAtest/Output'"
   ]
  },
  {
   "cell_type": "code",
   "execution_count": 2,
   "metadata": {
    "id": "ilPK8WaP-czv"
   },
   "outputs": [
    {
     "name": "stdout",
     "output_type": "stream",
     "text": [
      "Package                   Version\n",
      "------------------------- -----------\n",
      "absl-py                   2.1.0\n",
      "addict                    2.4.0\n",
      "anyio                     4.2.0\n",
      "argon2-cffi               21.3.0\n",
      "argon2-cffi-bindings      21.2.0\n",
      "asttokens                 2.0.5\n",
      "async-lru                 2.0.4\n",
      "attrs                     23.1.0\n",
      "Babel                     2.11.0\n",
      "beautifulsoup4            4.12.3\n",
      "bleach                    4.1.0\n",
      "blinker                   1.8.2\n",
      "Brotli                    1.0.9\n",
      "certifi                   2024.7.4\n",
      "cffi                      1.16.0\n",
      "charset-normalizer        3.3.2\n",
      "click                     8.1.7\n",
      "cmake                     3.30.1\n",
      "comm                      0.2.1\n",
      "ConfigArgParse            1.7\n",
      "contourpy                 1.2.1\n",
      "cycler                    0.12.1\n",
      "dash                      2.17.1\n",
      "dash-core-components      2.0.0\n",
      "dash-html-components      2.0.0\n",
      "dash-table                5.0.0\n",
      "debugpy                   1.6.7\n",
      "decorator                 5.1.1\n",
      "defusedxml                0.7.1\n",
      "executing                 0.8.3\n",
      "fastjsonschema            2.16.2\n",
      "filelock                  3.13.1\n",
      "Flask                     3.0.3\n",
      "fonttools                 4.53.1\n",
      "fsspec                    2024.2.0\n",
      "gmpy2                     2.1.2\n",
      "grpcio                    1.65.1\n",
      "idna                      3.7\n",
      "importlib_metadata        8.1.0\n",
      "ipykernel                 6.28.0\n",
      "ipython                   8.25.0\n",
      "ipywidgets                8.1.2\n",
      "itsdangerous              2.2.0\n",
      "jedi                      0.19.1\n",
      "Jinja2                    3.1.4\n",
      "joblib                    1.4.2\n",
      "json5                     0.9.6\n",
      "jsonschema                4.19.2\n",
      "jsonschema-specifications 2023.7.1\n",
      "jupyter                   1.0.0\n",
      "jupyter_client            8.6.0\n",
      "jupyter-console           6.6.3\n",
      "jupyter_core              5.7.2\n",
      "jupyter-events            0.10.0\n",
      "jupyter-lsp               2.2.0\n",
      "jupyter_server            2.14.1\n",
      "jupyter_server_terminals  0.4.4\n",
      "jupyterlab                4.0.11\n",
      "jupyterlab-pygments       0.1.2\n",
      "jupyterlab_server         2.25.1\n",
      "jupyterlab-widgets        3.0.10\n",
      "kiwisolver                1.4.5\n",
      "lit                       18.1.8\n",
      "Markdown                  3.6\n",
      "MarkupSafe                2.1.3\n",
      "matplotlib                3.9.1\n",
      "matplotlib-inline         0.1.6\n",
      "mistune                   2.0.4\n",
      "mkl-fft                   1.3.8\n",
      "mkl-random                1.2.4\n",
      "mkl-service               2.4.0\n",
      "mpmath                    1.3.0\n",
      "nbclient                  0.8.0\n",
      "nbconvert                 7.10.0\n",
      "nbformat                  5.9.2\n",
      "nest-asyncio              1.6.0\n",
      "networkx                  3.3\n",
      "notebook                  7.0.8\n",
      "notebook_shim             0.2.3\n",
      "numpy                     1.26.4\n",
      "nvidia-cublas-cu11        11.10.3.66\n",
      "nvidia-cuda-cupti-cu11    11.7.101\n",
      "nvidia-cuda-nvrtc-cu11    11.7.99\n",
      "nvidia-cuda-runtime-cu11  11.7.99\n",
      "nvidia-cudnn-cu11         8.5.0.96\n",
      "nvidia-cufft-cu11         10.9.0.58\n",
      "nvidia-curand-cu11        10.2.10.91\n",
      "nvidia-cusolver-cu11      11.4.0.1\n",
      "nvidia-cusparse-cu11      11.7.4.91\n",
      "nvidia-nccl-cu11          2.14.3\n",
      "nvidia-nvtx-cu11          11.7.91\n",
      "open3d                    0.18.0\n",
      "overrides                 7.4.0\n",
      "packaging                 24.1\n",
      "pandas                    2.2.2\n",
      "pandocfilters             1.5.0\n",
      "parso                     0.8.3\n",
      "pexpect                   4.8.0\n",
      "pillow                    10.4.0\n",
      "pip                       24.0\n",
      "platformdirs              3.10.0\n",
      "plotly                    5.23.0\n",
      "ply                       3.11\n",
      "prometheus-client         0.14.1\n",
      "prompt-toolkit            3.0.43\n",
      "protobuf                  4.25.3\n",
      "psutil                    5.9.0\n",
      "ptyprocess                0.7.0\n",
      "pure-eval                 0.2.2\n",
      "pycparser                 2.21\n",
      "Pygments                  2.15.1\n",
      "pyparsing                 3.1.2\n",
      "PyQt5                     5.15.10\n",
      "PyQt5-sip                 12.13.0\n",
      "pyquaternion              0.9.9\n",
      "PySocks                   1.7.1\n",
      "python-dateutil           2.9.0.post0\n",
      "python-json-logger        2.0.7\n",
      "pytz                      2024.1\n",
      "PyYAML                    6.0.1\n",
      "pyzmq                     25.1.2\n",
      "qtconsole                 5.5.1\n",
      "QtPy                      2.4.1\n",
      "referencing               0.30.2\n",
      "requests                  2.32.3\n",
      "retrying                  1.3.4\n",
      "rfc3339-validator         0.1.4\n",
      "rfc3986-validator         0.1.1\n",
      "rpds-py                   0.10.6\n",
      "scikit-learn              1.5.1\n",
      "scipy                     1.14.0\n",
      "Send2Trash                1.8.2\n",
      "setuptools                69.5.1\n",
      "sip                       6.7.12\n",
      "six                       1.16.0\n",
      "sniffio                   1.3.0\n",
      "soupsieve                 2.5\n",
      "stack-data                0.2.0\n",
      "sympy                     1.12\n",
      "tenacity                  8.5.0\n",
      "tensorboard               2.17.0\n",
      "tensorboard-data-server   0.7.2\n",
      "terminado                 0.17.1\n",
      "threadpoolctl             3.5.0\n",
      "tinycss2                  1.2.1\n",
      "torch                     2.0.1\n",
      "torchaudio                2.0.2\n",
      "torchvision               0.15.2\n",
      "tornado                   6.4.1\n",
      "tqdm                      4.66.4\n",
      "traitlets                 5.14.3\n",
      "triton                    2.0.0\n",
      "typing_extensions         4.11.0\n",
      "tzdata                    2024.1\n",
      "urllib3                   2.2.2\n",
      "wcwidth                   0.2.5\n",
      "webencodings              0.5.1\n",
      "websocket-client          1.8.0\n",
      "Werkzeug                  3.0.3\n",
      "wheel                     0.43.0\n",
      "widgetsnbextension        4.0.10\n",
      "zipp                      3.19.2\n"
     ]
    }
   ],
   "source": [
    "!pip list"
   ]
  },
  {
   "cell_type": "code",
   "execution_count": null,
   "metadata": {},
   "outputs": [],
   "source": []
  }
 ],
 "metadata": {
  "accelerator": "GPU",
  "colab": {
   "gpuType": "T4",
   "provenance": []
  },
  "kernelspec": {
   "display_name": "Python 3 (ipykernel)",
   "language": "python",
   "name": "python3"
  },
  "language_info": {
   "codemirror_mode": {
    "name": "ipython",
    "version": 3
   },
   "file_extension": ".py",
   "mimetype": "text/x-python",
   "name": "python",
   "nbconvert_exporter": "python",
   "pygments_lexer": "ipython3",
   "version": "3.10.14"
  }
 },
 "nbformat": 4,
 "nbformat_minor": 4
}
