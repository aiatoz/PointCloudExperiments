{
 "cells": [
  {
   "cell_type": "code",
   "execution_count": 1,
   "id": "80291cb2-61de-437b-983f-aa2164743f68",
   "metadata": {},
   "outputs": [
    {
     "name": "stdout",
     "output_type": "stream",
     "text": [
      "Jupyter environment detected. Enabling Open3D WebVisualizer.\n",
      "[Open3D INFO] WebRTC GUI backend enabled.\n",
      "[Open3D INFO] WebRTCWindowSystem: HTTP handshake server disabled.\n"
     ]
    }
   ],
   "source": [
    "import open3d.ml as _ml3d\n",
    "import open3d as o3d\n",
    "import open3d.ml.torch as ml3d  # just switch to open3d.ml.tf for tf usage\n",
    "import os"
   ]
  },
  {
   "cell_type": "code",
   "execution_count": 2,
   "id": "1b544f0a-ce38-476f-aab3-0f7ce3a27248",
   "metadata": {},
   "outputs": [],
   "source": [
    "import warnings\n",
    "warnings.filterwarnings(\"ignore\")"
   ]
  },
  {
   "cell_type": "code",
   "execution_count": 3,
   "id": "c6f31573-5e2b-45d0-91d0-c656d7f7a82a",
   "metadata": {},
   "outputs": [
    {
     "name": "stdout",
     "output_type": "stream",
     "text": [
      "True\n"
     ]
    }
   ],
   "source": [
    "import torch\n",
    "print(torch.cuda.is_available())"
   ]
  },
  {
   "cell_type": "code",
   "execution_count": 4,
   "id": "6ccbc59b-45c0-4d07-920d-cf6c00d8e827",
   "metadata": {},
   "outputs": [],
   "source": [
    "device = torch.device(\"cuda\" if torch.cuda.is_available() else \"cpu\")"
   ]
  },
  {
   "cell_type": "code",
   "execution_count": 5,
   "id": "84cc17b3-5680-4127-ba1e-8c5dee4af7b9",
   "metadata": {},
   "outputs": [
    {
     "data": {
      "text/plain": [
       "device(type='cuda')"
      ]
     },
     "execution_count": 5,
     "metadata": {},
     "output_type": "execute_result"
    }
   ],
   "source": [
    "device"
   ]
  },
  {
   "cell_type": "code",
   "execution_count": 6,
   "id": "dda15865-6348-4714-ab71-cd0b6e158ad5",
   "metadata": {},
   "outputs": [],
   "source": [
    "cfg_file = \"configs/kpconv_parislille3d.yml\"\n",
    "cfg = _ml3d.utils.Config.load_from_file(cfg_file)\n",
    "\n",
    "model = ml3d.models.KPFCNN(**cfg.model)\n",
    "cfg.dataset['dataset_path'] = \"/mnt/d/Krishna/Research/Datasets/Paris/\"\n",
    "dataset = ml3d.datasets.ParisLille3D(cfg.dataset.pop('dataset_path', None), **cfg.dataset)\n",
    "pipeline = ml3d.pipelines.SemanticSegmentation(model, dataset=dataset, device=\"gpu\", **cfg.pipeline)"
   ]
  },
  {
   "cell_type": "code",
   "execution_count": 7,
   "id": "3881a089-7418-429f-9945-e5b1769c1a6f",
   "metadata": {},
   "outputs": [],
   "source": [
    "# download the weights.\n",
    "ckpt_folder = \"pretrained/\"\n",
    "os.makedirs(ckpt_folder, exist_ok=True)\n",
    "ckpt_path = ckpt_folder + \"kpconv_parislille3d_202011241550utc.pth\""
   ]
  },
  {
   "cell_type": "code",
   "execution_count": 8,
   "id": "f7f5cde3-be1e-4a20-9de8-edd7db741088",
   "metadata": {},
   "outputs": [],
   "source": [
    "# load the parameters.\n",
    "pipeline.load_ckpt(ckpt_path=ckpt_path)"
   ]
  },
  {
   "cell_type": "code",
   "execution_count": 9,
   "id": "d68283b8-8763-4964-a90e-3125c4b3db20",
   "metadata": {},
   "outputs": [
    {
     "data": {
      "text/plain": [
       "['/mnt/d/Krishna/Research/Datasets/Paris//test_10_classes/000003.ply',\n",
       " '/mnt/d/Krishna/Research/Datasets/Paris//test_10_classes/ajaccio_2.ply',\n",
       " '/mnt/d/Krishna/Research/Datasets/Paris//test_10_classes/ajaccio_57.ply',\n",
       " '/mnt/d/Krishna/Research/Datasets/Paris//test_10_classes/dijon_9.ply',\n",
       " '/mnt/d/Krishna/Research/Datasets/Paris//test_10_classes/IIITB_base_Readable.ply']"
      ]
     },
     "execution_count": 9,
     "metadata": {},
     "output_type": "execute_result"
    }
   ],
   "source": [
    "dataset.get_split_list(\"test\")"
   ]
  },
  {
   "cell_type": "code",
   "execution_count": 10,
   "id": "2598704d-4b86-4faf-99b4-dd828a1d528c",
   "metadata": {},
   "outputs": [],
   "source": [
    "test_split = dataset.get_split(\"test\")\n",
    "data = test_split.get_data(4)"
   ]
  },
  {
   "cell_type": "code",
   "execution_count": 11,
   "id": "80cd20f9-256e-4b3f-a0f8-ff66f34447fb",
   "metadata": {},
   "outputs": [
    {
     "name": "stderr",
     "output_type": "stream",
     "text": [
      "test 0/1: 100%|██████████████████████████████████████████████████████████████████████████████████████████████████████████████| 443889/443889 [05:32<00:00, 57.39it/s]"
     ]
    }
   ],
   "source": [
    "# run inference on a single example.\n",
    "# returns dict with 'predict_labels' and 'predict_scores'.\n",
    "result = pipeline.run_inference(data)"
   ]
  },
  {
   "cell_type": "code",
   "execution_count": 12,
   "id": "7eed2c5e-ab76-462a-8657-28edcb91a198",
   "metadata": {},
   "outputs": [
    {
     "data": {
      "text/plain": [
       "2275320"
      ]
     },
     "execution_count": 12,
     "metadata": {},
     "output_type": "execute_result"
    }
   ],
   "source": [
    "len(result['predict_labels'])"
   ]
  },
  {
   "cell_type": "code",
   "execution_count": 13,
   "id": "2cc047bb-3f5a-4b79-a01f-af6c2362e110",
   "metadata": {},
   "outputs": [
    {
     "data": {
      "text/plain": [
       "{0, 1, 2, 5, 7, 8}"
      ]
     },
     "execution_count": 13,
     "metadata": {},
     "output_type": "execute_result"
    }
   ],
   "source": [
    "set(result['predict_labels'])"
   ]
  },
  {
   "cell_type": "code",
   "execution_count": 15,
   "id": "0dfb55f8-6de4-47d4-90d0-4b488a668b67",
   "metadata": {},
   "outputs": [],
   "source": [
    "newData = data"
   ]
  },
  {
   "cell_type": "code",
   "execution_count": 16,
   "id": "fa47ed5e-8f43-4ad7-aa9a-97de11fd1409",
   "metadata": {},
   "outputs": [],
   "source": [
    "newData['label'] = result['predict_labels']"
   ]
  },
  {
   "cell_type": "code",
   "execution_count": 17,
   "id": "3d73aa7b-3371-46d5-9b6c-de666659d471",
   "metadata": {},
   "outputs": [
    {
     "data": {
      "text/plain": [
       "{'point': array([[-10.417  ,  -0.182  ,  -0.7285 ],\n",
       "        [-10.302  ,  -0.23   ,  -0.779  ],\n",
       "        [-10.325  ,  -0.23475,  -0.711  ],\n",
       "        ...,\n",
       "        [ 13.417  ,  10.72   ,  -0.692  ],\n",
       "        [ 13.421  ,  10.711  ,  -0.685  ],\n",
       "        [ 13.512  ,  11.25   ,  -0.745  ]], dtype=float32),\n",
       " 'feat': None,\n",
       " 'label': array([8, 8, 8, ..., 8, 8, 8])}"
      ]
     },
     "execution_count": 17,
     "metadata": {},
     "output_type": "execute_result"
    }
   ],
   "source": [
    "newData"
   ]
  },
  {
   "cell_type": "code",
   "execution_count": 18,
   "id": "e7147ffc-e42c-4a3b-90b1-2467b3cd6266",
   "metadata": {},
   "outputs": [],
   "source": [
    "# evaluate performance on the test set; this will write logs to './logs'.\n",
    "#pipeline.run_test()"
   ]
  },
  {
   "cell_type": "markdown",
   "id": "7548af25-32ae-423a-9684-8ac31cc98258",
   "metadata": {},
   "source": [
    "## Raw labelling"
   ]
  },
  {
   "cell_type": "code",
   "execution_count": 19,
   "id": "a74779af-c877-4ba1-bf12-9e79ab1a9c34",
   "metadata": {},
   "outputs": [
    {
     "name": "stdout",
     "output_type": "stream",
     "text": [
      "Point cloud data with labels saved to output_point_cloud.txt\n"
     ]
    }
   ],
   "source": [
    "import numpy as np\n",
    "\n",
    "# Assuming newData is already defined as in your example\n",
    "newData['label'] = newData['label'] + 1\n",
    "\n",
    "# Combine all data into a single array for writing to a text file\n",
    "# Structure: x, y, z, r, g, b, label\n",
    "data_to_write = np.hstack((\n",
    "    newData['point'],                       # x, y, z coordinates\n",
    "    #newData['feat'][:, :3],                 # r, g, b colors\n",
    "    newData['label'].reshape(-1, 1)         # label as a single column\n",
    "))\n",
    "\n",
    "# Save to a text file ckpt_00300\n",
    "np.savetxt(\"ParisLilleOut.txt\", data_to_write, fmt='%.6f %.6f %.6f %d')\n",
    "\n",
    "print(\"Point cloud data with labels saved to output_point_cloud.txt\")"
   ]
  },
  {
   "cell_type": "code",
   "execution_count": null,
   "id": "b1c7f31e-d1d0-4100-ba5b-c174b126c800",
   "metadata": {},
   "outputs": [
    {
     "name": "stderr",
     "output_type": "stream",
     "text": [
      "\n",
      "test 0/1: 100%|███████████████████████████████████████████████████████████████| 692214/692214 [00:54<00:00, 2143.62it/s]\u001b[A"
     ]
    }
   ],
   "source": [
    "import numpy as np\n",
    "\n",
    "# Assuming newData is already defined as in your example\n",
    "\n",
    "# Combine the point cloud data: x, y, z, r, g, b, label\n",
    "# Ensure colors are normalized to [0, 1] range\n",
    "colors = newData['feat'][:, :3] / 255.0\n",
    "labels = newData['label'].reshape(-1, 1).astype(np.float32)\n",
    "data_to_write = np.hstack((newData['point'], colors, labels))\n",
    "\n",
    "# Create a header for the PCD file\n",
    "header = f\"\"\"# .PCD v0.7 - Point Cloud Data file format\n",
    "VERSION 0.7\n",
    "FIELDS x y z rgb label\n",
    "SIZE 4 4 4 4 4\n",
    "TYPE F F F F F\n",
    "COUNT 1 1 1 1 1\n",
    "WIDTH {data_to_write.shape[0]}\n",
    "HEIGHT 1\n",
    "VIEWPOINT 0 0 0 1 0 0 0\n",
    "POINTS {data_to_write.shape[0]}\n",
    "DATA ascii\n",
    "\"\"\"\n",
    "\n",
    "# Convert RGB values from float (0-1) to packed float (for PCD)\n",
    "rgb_packed = np.array(\n",
    "    ((colors[:, 0] * 255).astype(np.uint32) << 16) |\n",
    "    ((colors[:, 1] * 255).astype(np.uint32) << 8) |\n",
    "    ((colors[:, 2] * 255).astype(np.uint32))\n",
    ").view(np.float32).reshape(-1, 1)\n",
    "\n",
    "# Combine points, packed RGB, and labels\n",
    "pcd_data = np.hstack((newData['point'], rgb_packed, labels))\n",
    "\n",
    "# Write to the PCD file\n",
    "with open(\"output_point_cloud_06500\", \"w\") as f:\n",
    "    f.write(header)\n",
    "    np.savetxt(f, pcd_data, fmt=\"%.6f %.6f %.6f %.6f %.1f\")\n",
    "\n",
    "print(\"Point cloud with labels saved to output_with_labels.pcd\")"
   ]
  },
  {
   "cell_type": "code",
   "execution_count": null,
   "id": "00c8c177-c453-4232-9ebe-887f8b2eb0a3",
   "metadata": {},
   "outputs": [],
   "source": []
  }
 ],
 "metadata": {
  "kernelspec": {
   "display_name": "Python 3 (ipykernel)",
   "language": "python",
   "name": "python3"
  },
  "language_info": {
   "codemirror_mode": {
    "name": "ipython",
    "version": 3
   },
   "file_extension": ".py",
   "mimetype": "text/x-python",
   "name": "python",
   "nbconvert_exporter": "python",
   "pygments_lexer": "ipython3",
   "version": "3.10.14"
  }
 },
 "nbformat": 4,
 "nbformat_minor": 5
}
