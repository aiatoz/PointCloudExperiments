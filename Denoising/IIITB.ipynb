{
 "cells": [
  {
   "cell_type": "markdown",
   "id": "372f3e28-3651-4ad9-ac53-5a21457d5803",
   "metadata": {},
   "source": [
    "#### Load dataset"
   ]
  },
  {
   "cell_type": "code",
   "execution_count": null,
   "id": "71226d0f-ffdc-4369-a53c-a0eec8f1e2fd",
   "metadata": {},
   "outputs": [],
   "source": [
    "import open3d as o3d"
   ]
  },
  {
   "cell_type": "code",
   "execution_count": 2,
   "id": "81d1798c-fc0a-4d70-836d-fb9e2c75c70e",
   "metadata": {},
   "outputs": [
    {
     "name": "stdout",
     "output_type": "stream",
     "text": [
      "PointCloud with 3700943 points.\n"
     ]
    }
   ],
   "source": [
    "ptCloud = o3d.io.read_point_cloud(\"IIT_og.ply\")\n",
    "print(ptCloud)"
   ]
  },
  {
   "cell_type": "code",
   "execution_count": 3,
   "id": "1159b439-1d98-49c0-8c6e-206990214404",
   "metadata": {},
   "outputs": [],
   "source": [
    "noNeighbours = 10  #No of neighbours\n",
    "sdRatio = 1.5  #Std deviation ratio\n",
    "\n",
    "#Statistical filtering\n",
    "inlierCloud, outlierCloud = ptCloud.remove_statistical_outlier(\n",
    "    nb_neighbors=noNeighbours, std_ratio=sdRatio\n",
    ")"
   ]
  },
  {
   "cell_type": "markdown",
   "id": "016c2be9-e303-442f-9212-9bba8e685134",
   "metadata": {},
   "source": [
    "#### Using Voxel down sampling"
   ]
  },
  {
   "cell_type": "code",
   "execution_count": 4,
   "id": "be0b1035-e3ee-44cf-88de-c24dd5c48d56",
   "metadata": {},
   "outputs": [],
   "source": [
    "#FUrther reduction | Voxel down sampling\n",
    "VoxelDSampledCloud = inlierCloud.voxel_down_sample(voxel_size=0.03) #Voxel based sampling to represent all the points in a voxel using a singl voxel pt"
   ]
  },
  {
   "cell_type": "markdown",
   "id": "20241d55-4ccc-447a-9de1-72098d2d44c3",
   "metadata": {},
   "source": [
    "#### Using Farthest point sampling"
   ]
  },
  {
   "cell_type": "code",
   "execution_count": 11,
   "id": "5b9cd5e0-5d7a-4cbf-ab87-f01f0c501c33",
   "metadata": {},
   "outputs": [],
   "source": [
    "#FUrther reduction | Farthest point down sampling\n",
    "FPtDSampledCloud = inlierCloud.farthest_point_down_sample(num_samples=100000)"
   ]
  },
  {
   "cell_type": "markdown",
   "id": "07936b22-75b4-491d-af94-a1f2e75dd53c",
   "metadata": {},
   "source": [
    "#### Using poisson disk sampling"
   ]
  },
  {
   "cell_type": "code",
   "execution_count": null,
   "id": "67793cf0-fb53-4336-b31a-15b1055b7b81",
   "metadata": {},
   "outputs": [],
   "source": [
    "#FUrther reduction | Poisson disk sampling\n",
    "\"\"\"PsnDskDSampledCloud = inlierCloud.sample_points_poisson_disk(number_of_points=1000)\"\"\"\n",
    "\n",
    "\n",
    "#INSTEAD\n",
    "#Used MeshLab’s Poisson-disk Sampling tool"
   ]
  },
  {
   "cell_type": "markdown",
   "id": "8e7a611e-8f39-412d-a8f1-a67d07585b37",
   "metadata": {},
   "source": [
    "#### To visualize"
   ]
  },
  {
   "cell_type": "code",
   "execution_count": 6,
   "id": "fb4ed4d0-8742-4975-ae41-39d2f8164efe",
   "metadata": {},
   "outputs": [
    {
     "name": "stdout",
     "output_type": "stream",
     "text": [
      "[Open3D WARNING] GLFW Error: WGL: Failed to make context current: The requested transformation operation is not supported. \n",
      "[Open3D WARNING] GLFW Error: WGL: Failed to make context current: The handle is invalid. \n"
     ]
    }
   ],
   "source": [
    "#o3d.visualization.draw_geometries([ptCloud])\n",
    "#o3d.visualization.draw_geometries([inlierCloud])\n",
    "#o3d.visualization.draw_geometries([sampledCloud])\n",
    "#o3d.visualization.draw_geometries([FPtDSampledCloud])\n",
    "#o3d.visualization.draw_geometries([PsnDskDSampledCloud])"
   ]
  },
  {
   "cell_type": "code",
   "execution_count": 12,
   "id": "ab6b076c-80f1-4524-ac06-2b1009b8cda0",
   "metadata": {},
   "outputs": [
    {
     "name": "stdout",
     "output_type": "stream",
     "text": [
      "PointCloud with 3700943 points.\n",
      "PointCloud with 3602606 points.\n",
      "PointCloud with 1703513 points.\n",
      "PointCloud with 100000 points.\n"
     ]
    }
   ],
   "source": [
    "print(ptCloud)\n",
    "print(inlierCloud)\n",
    "print(VoxelDSampledCloud)\n",
    "print(FPtDSampledCloud)\n",
    "#print(PsnDskDSampledCloud)"
   ]
  },
  {
   "cell_type": "code",
   "execution_count": 13,
   "id": "d2f6b8ef-f8a0-47ae-be03-310e71926909",
   "metadata": {},
   "outputs": [
    {
     "data": {
      "text/plain": [
       "True"
      ]
     },
     "execution_count": 13,
     "metadata": {},
     "output_type": "execute_result"
    }
   ],
   "source": [
    "#o3d.io.write_point_cloud(\"IIT_VoxelDSampledCloud.ply\", VoxelDSampledCloud)\n",
    "#o3d.io.write_point_cloud(\"IIT_FPtDSampledCloud.ply\", FPtDSampledCloud)\n",
    "#o3d.io.write_point_cloud(\"IIT_PsnDskDSampledCloud.ply\", PsnDskDSampledCloud)"
   ]
  }
 ],
 "metadata": {
  "kernelspec": {
   "display_name": "Python 3 (ipykernel)",
   "language": "python",
   "name": "python3"
  },
  "language_info": {
   "codemirror_mode": {
    "name": "ipython",
    "version": 3
   },
   "file_extension": ".py",
   "mimetype": "text/x-python",
   "name": "python",
   "nbconvert_exporter": "python",
   "pygments_lexer": "ipython3",
   "version": "3.12.2"
  }
 },
 "nbformat": 4,
 "nbformat_minor": 5
}
